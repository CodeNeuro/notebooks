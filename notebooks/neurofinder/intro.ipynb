{
 "cells": [
  {
   "cell_type": "markdown",
   "metadata": {},
   "source": [
    "<div class=\"clearfix\" style=\"padding: 0px; padding-left: 0px;\">\n",
    "<a href=\"http://codeneuro.org\"><img src=\"http://codeneuro.org/svg/logo-notebooks-green.svg\" width=\"150px\"  style=\"display: inline-block; margin-left: 0px; width:500px\"></a>\n",
    "<a href=\"http://datasets.codeneuro.org\"><img src=\"http://codeneuro.org/svg/logo-neurofinder.svg\" width=\"380px\"  style=\"display: inline-block;\"></a>\n",
    "</div>\n",
    "\n",
    "<p class='header-1'>Welcome to <span style='font-weight:800'>NEUROFINDER</span></p>\n",
    "\n",
    "<p class='info-text'>We help develop algorithms.</p>\n",
    "\n",
    "<p class='info-text'>For more information, visit the <a class='call-link neurofinder' href='http://datasets.codeneuro.org'>project</a> page or come <a class='call-link neurofinder' href='http://gitter.com/codeneuro/datasets'>chat</a> with us.</p>"
   ]
  }
 ],
 "metadata": {
  "kernelspec": {
   "display_name": "Python 2",
   "language": "python",
   "name": "python2"
  },
  "language_info": {
   "codemirror_mode": {
    "name": "ipython",
    "version": 2
   },
   "file_extension": ".py",
   "mimetype": "text/x-python",
   "name": "python",
   "nbconvert_exporter": "python",
   "pygments_lexer": "ipython2",
   "version": "2.7.9"
  }
 },
 "nbformat": 4,
 "nbformat_minor": 0
}
