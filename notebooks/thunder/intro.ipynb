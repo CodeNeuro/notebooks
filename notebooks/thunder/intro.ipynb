{
 "cells": [
  {
   "cell_type": "markdown",
   "metadata": {},
   "source": [
    "<div class=\"clearfix\" style=\"padding: 0px; padding-left: 0px;\">\n",
    "<a href=\"http://codeneuro.org\"><img src=\"http://codeneuro.org/svg/logo-notebooks-orange.svg\" width=\"150px\"  style=\"display: inline-block; margin-left: 0px; margin-right: 10px; width:500px\"></a><a href=\"http://thunder-project.org\"><img src=\"http://thunder-project.org/images/title-dark.svg\" width=\"300px\"  style=\"display: inline-block; margin-left: 25px;\"></a>\n",
    "</div>\n",
    "\n",
    "<p class='header-1'>Welcome to <span style='font-weight:800'>Thunder</span></p>\n",
    "\n",
    "<p class='info-text'>This is a collection of notebooks for experimenting with Thunder and Spark.</p>\n",
    "\n",
    "<p class='info-text'>For more information, visit the <a class='call-link thunder' href='http://thunder-project.org'>project</a> page or come <a class='call-link thunder' href='http://gitter.im/thunder-project/thunder'>chat</a> with us.</p>\n",
    "\n",
    "<p class='header-2'>Tutorials (basic)</p>\n",
    "\n",
    "<a class='call-link thunder' href='tutorials/basic_usage.ipynb'>Basic usage</a>\n",
    "\n",
    "<a class='call-link thunder' href='tutorials/images.ipynb'>Images</a>\n",
    "\n",
    "<a class='call-link thunder' href='tutorials/series.ipynb'>Series</a>\n",
    "\n",
    "<a class='call-link thunder' href='tutorials/input_formats.ipynb'>Input formats</a>\n",
    "\n",
    "<a class='call-link thunder' href='tutorials/thunder_context.ipynb'>Thunder context</a>\n",
    "\n",
    "<p class='header-2'>Tutorials (intermediate)</p>\n",
    "\n",
    "<a class='call-link thunder' href='tutorials/factorization.ipynb'>Factorization</a>\n",
    "\n",
    "<a class='call-link thunder' href='tutorials/clustering.ipynb'>Clustering</a>\n",
    "\n",
    "<a class='call-link thunder' href='tutorials/regression.ipynb'>Regression</a>\n",
    "\n",
    "<a class='call-link thunder' href='tutorials/multi_index.ipynb'>Multi indexing</a>\n",
    "\n",
    "<a class='call-link thunder' href='tutorials/image_registration.ipynb'>Image registration</a>\n"
   ]
  }
 ],
 "metadata": {
  "kernelspec": {
   "display_name": "Python 2",
   "language": "python",
   "name": "python2"
  },
  "language_info": {
   "codemirror_mode": {
    "name": "ipython",
    "version": 2
   },
   "file_extension": ".py",
   "mimetype": "text/x-python",
   "name": "python",
   "nbconvert_exporter": "python",
   "pygments_lexer": "ipython2",
   "version": "2.7.9"
  }
 },
 "nbformat": 4,
 "nbformat_minor": 0
}
